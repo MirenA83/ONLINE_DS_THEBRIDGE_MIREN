{
 "cells": [
  {
   "cell_type": "markdown",
   "metadata": {},
   "source": [
    "![imagen](./img/ejercicios.png)"
   ]
  },
  {
   "cell_type": "markdown",
   "metadata": {},
   "source": [
    "# INFORMACIÓN DEL PROYECTO"
   ]
  },
  {
   "cell_type": "markdown",
   "metadata": {},
   "source": [
    "### TÍTULO"
   ]
  },
  {
   "cell_type": "markdown",
   "metadata": {},
   "source": [
    "#Escribe el título del proyecto en Markdown\n",
    "titulo = \" El mapa de la Medicacion\""
   ]
  },
  {
   "cell_type": "markdown",
   "metadata": {},
   "source": [
    "### TEMA"
   ]
  },
  {
   "cell_type": "markdown",
   "metadata": {},
   "source": [
    "# Describe brevemente el tema del proyecto en Markdown\n",
    "tema = \" Análisis exploratorio de datos a partir del cual  podría proporcionar una comprensión más profunda de cómo diferentes variables, como la ubicación geográfica y las características demográficas, pueden influir en los patrones de consumo de medicamentos en la población española.\""
   ]
  },
  {
   "cell_type": "markdown",
   "metadata": {},
   "source": [
    "### HIPÓTESIS"
   ]
  },
  {
   "cell_type": "markdown",
   "metadata": {},
   "source": [
    "Define aquí lo que será la hipótesis de tu proyecto.\n",
    "Deberás tener más de una, pero tu proyecto lo harás teniendo una principal hipótesis."
   ]
  },
  {
   "cell_type": "markdown",
   "metadata": {},
   "source": [
    "# Escribe tu hipótesis principal en Markdown\n",
    "hipotesis_1 = \"Se espera encontrar variaciones significativas en los patrones de consumo de fármacos entre diferentes regiones de España, influenciadas por factores como la demografía, el acceso a la atención médica y las condiciones socioeconómicas.\""
   ]
  },
  {
   "cell_type": "markdown",
   "metadata": {},
   "source": [
    "# Escribe más hipótesis si las hubiera en Markdown\n",
    "# hipotesis_2 = \"Se espera observar una mayor prevalencia de ciertos tipos de medicamentos en áreas urbanas densamente pobladas en comparación con áreas rurales, debido a una mayor disponibilidad de servicios de atención médica y acceso a farmacias\"\n",
    "# hipotesis_3 = \"Se espera encontrar diferencias significativas en el consumo de fármacos entre regiones costeras y regiones del interior, reflejando posibles variaciones en la incidencia de enfermedades relacionadas con el estilo de vida y el medio ambiente\"\n",
    "# hipotesis_4 = \"Se espera que las regiones con una población más envejecida muestren un mayor consumo de medicamentos relacionados con enfermedades crónicas y condiciones de salud asociadas con la edad, como la hipertensión, la diabetes y las enfermedades cardiovasculares\"\n",
    "# hipotesis_5 = \"Se espera que el nivel socioeconómico de una región influya en los patrones de consumo de fármacos, con áreas de mayor ingreso mostrando un mayor consumo de medicamentos de marca y tratamientos especializados en comparación con áreas de menor ingreso, donde los medicamentos genéricos pueden ser más comunes.\"\n",
    "# hipotesis_6 = \"Se espera observar diferencias en el consumo de medicamentos entre regiones autónomas, reflejando diferencias culturales, políticas de salud locales y disponibilidad de servicios médicos.\"\n"
   ]
  },
  {
   "cell_type": "markdown",
   "metadata": {},
   "source": [
    "## OBTENCIÓN DE LOS DATOS"
   ]
  },
  {
   "cell_type": "markdown",
   "metadata": {},
   "source": [
    "### DATASETS Y FUENTES ALTERNATIVAS DE DATOS"
   ]
  },
  {
   "cell_type": "markdown",
   "metadata": {},
   "source": [
    "Incluye aquí una vista del dataset o datasets de los que partirás para poder evaluar tu hipótesis. <br>\n",
    "También incluye el origen de estos datos y su fuente."
   ]
  },
  {
   "cell_type": "markdown",
   "metadata": {},
   "source": [
    "import pandas as pd\n",
    "\n",
    "INE\n",
    "Ministerio de Sanidad\n",
    "Red de servicios de salud\n",
    "Bases de datos de investigacion científica (PubMed)\n",
    "\n",
    "# guarda en variables los datasets y su fuente\n",
    "df_1 = pd.DataFrame()\n",
    "fuente_1 = \"\"\n",
    "# df_2 = pd.DataFrame()\n",
    "# fuente_2 = \"\"\n",
    "# df_3 = pd.DataFrame()\n",
    "# fuente_3 = \"\"\n",
    "# df_4 = pd.DataFrame()\n",
    "# fuente_4 = \"\"\n",
    "# df_5 = pd.DataFrame()\n",
    "# fuente_5 = \"\"\n",
    "# ..."
   ]
  },
  {
   "cell_type": "markdown",
   "metadata": {},
   "source": [
    "Muestra mediante un head() los principales datasets con los que vas a trabajar"
   ]
  },
  {
   "cell_type": "code",
   "execution_count": null,
   "metadata": {},
   "outputs": [],
   "source": [
    "# Primer dataset\n",
    "# df_1.head()"
   ]
  },
  {
   "cell_type": "code",
   "execution_count": null,
   "metadata": {},
   "outputs": [],
   "source": [
    "# Siguiente dataset...\n",
    "# df_2.head()"
   ]
  }
 ],
 "metadata": {
  "kernelspec": {
   "display_name": "Python 3.7.4 64-bit",
   "language": "python",
   "name": "python3"
  },
  "language_info": {
   "codemirror_mode": {
    "name": "ipython",
    "version": 3
   },
   "file_extension": ".py",
   "mimetype": "text/x-python",
   "name": "python",
   "nbconvert_exporter": "python",
   "pygments_lexer": "ipython3",
   "version": "3.7.4"
  },
  "orig_nbformat": 4,
  "vscode": {
   "interpreter": {
    "hash": "90139cb9a825bf3d63f6f6704e828dbd1ff7edbd4d0c6e906a71235d6efc74af"
   }
  }
 },
 "nbformat": 4,
 "nbformat_minor": 2
}
